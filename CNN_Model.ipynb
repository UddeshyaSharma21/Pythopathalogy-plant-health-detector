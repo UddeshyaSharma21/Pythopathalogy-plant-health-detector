{
 "cells": [
  {
   "cell_type": "code",
   "execution_count": 1,
   "metadata": {
    "id": "sCV30xyVhFbE"
   },
   "outputs": [],
   "source": [
    "import tensorflow as tf\n",
    "from keras.preprocessing.image import ImageDataGenerator\n",
    "from keras.layers.normalization import BatchNormalization\n",
    "from keras.layers.core import Activation, Flatten, Dropout, Dense"
   ]
  },
  {
   "cell_type": "markdown",
   "metadata": {
    "id": "oxQxCBWyoGPE"
   },
   "source": [
    "## Part 1 - Data Preprocessing"
   ]
  },
  {
   "cell_type": "markdown",
   "metadata": {
    "id": "MvE-heJNo3GG"
   },
   "source": [
    "### Preprocessing the Training set"
   ]
  },
  {
   "cell_type": "code",
   "execution_count": 2,
   "metadata": {
    "colab": {
     "base_uri": "https://localhost:8080/"
    },
    "id": "0koUcJMJpEBD",
    "outputId": "45b096da-c0b9-40e1-e252-1e1e149da402"
   },
   "outputs": [
    {
     "name": "stdout",
     "output_type": "stream",
     "text": [
      "Found 6492 images belonging to 2 classes.\n"
     ]
    }
   ],
   "source": [
    "data_gen = ImageDataGenerator(rotation_range=25,\n",
    "                                   rescale = 1./255,\n",
    "                                   width_shift_range=0.1,\n",
    "                                   height_shift_range=0.1,\n",
    "                                   shear_range = 0.2,\n",
    "                                   zoom_range = 0.2,\n",
    "                                   horizontal_flip = True)\n",
    "train = data_gen.flow_from_directory('dataset/train',\n",
    "                                                 target_size = (64, 64),\n",
    "                                                 batch_size = 32,\n",
    "                                                 class_mode = 'binary')"
   ]
  },
  {
   "cell_type": "markdown",
   "metadata": {
    "id": "mrCMmGw9pHys"
   },
   "source": [
    "### Preprocessing the Test set"
   ]
  },
  {
   "cell_type": "code",
   "execution_count": 3,
   "metadata": {
    "colab": {
     "base_uri": "https://localhost:8080/"
    },
    "id": "SH4WzfOhpKc3",
    "outputId": "28a7742d-2a2d-4f0d-b98b-97f20e3d16a0"
   },
   "outputs": [
    {
     "name": "stdout",
     "output_type": "stream",
     "text": [
      "Found 2868 images belonging to 2 classes.\n"
     ]
    }
   ],
   "source": [
    "test_data_gen = ImageDataGenerator(rescale = 1./255)\n",
    "test = test_data_gen.flow_from_directory('dataset/test',\n",
    "                                            target_size = (64, 64),\n",
    "                                            batch_size = 32,\n",
    "                                            class_mode = 'binary')"
   ]
  },
  {
   "cell_type": "markdown",
   "metadata": {
    "id": "af8O4l90gk7B"
   },
   "source": [
    "## Part 2 - Building the plant_model"
   ]
  },
  {
   "cell_type": "code",
   "execution_count": 2,
   "metadata": {
    "id": "SAUt4UMPlhLS"
   },
   "outputs": [],
   "source": [
    "plant_model = tf.keras.models.Sequential()"
   ]
  },
  {
   "cell_type": "code",
   "execution_count": 3,
   "metadata": {
    "id": "XPzPrMckl-hV"
   },
   "outputs": [],
   "source": [
    "plant_model.add(tf.keras.layers.Conv2D(filters=32, kernel_size=3, padding=\"same\", activation='relu', input_shape=[64, 64, 3]))"
   ]
  },
  {
   "cell_type": "code",
   "execution_count": 4,
   "metadata": {
    "id": "QalXlmOEllbI"
   },
   "outputs": [],
   "source": [
    "plant_model.add(BatchNormalization(axis=-1))"
   ]
  },
  {
   "cell_type": "code",
   "execution_count": 5,
   "metadata": {
    "id": "ncpqPl69mOac"
   },
   "outputs": [],
   "source": [
    "plant_model.add(tf.keras.layers.MaxPool2D(pool_size=(3, 3)))"
   ]
  },
  {
   "cell_type": "code",
   "execution_count": 6,
   "metadata": {
    "id": "z7JQrGmmlxBf"
   },
   "outputs": [],
   "source": [
    "plant_model.add(Dropout(0.25))"
   ]
  },
  {
   "cell_type": "code",
   "execution_count": 7,
   "metadata": {
    "id": "i_-FZjn_m8gk"
   },
   "outputs": [],
   "source": [
    "plant_model.add(tf.keras.layers.Conv2D(filters=32, kernel_size=3, padding=\"same\", activation='relu'))\n",
    "plant_model.add(BatchNormalization(axis=-1))\n",
    "plant_model.add(tf.keras.layers.MaxPool2D(pool_size=(2, 2)))"
   ]
  },
  {
   "cell_type": "code",
   "execution_count": 8,
   "metadata": {
    "id": "eqKqKfefmOsZ"
   },
   "outputs": [],
   "source": [
    "plant_model.add(Dropout(0.25))"
   ]
  },
  {
   "cell_type": "code",
   "execution_count": 9,
   "metadata": {
    "id": "6AZeOGCvnNZn"
   },
   "outputs": [],
   "source": [
    "plant_model.add(tf.keras.layers.Flatten())"
   ]
  },
  {
   "cell_type": "code",
   "execution_count": 10,
   "metadata": {
    "id": "8GtmUlLd26Nq"
   },
   "outputs": [],
   "source": [
    "plant_model.add(tf.keras.layers.Dense(units=1024, activation='relu'))"
   ]
  },
  {
   "cell_type": "code",
   "execution_count": 11,
   "metadata": {
    "id": "1p_Zj1Mc3Ko_"
   },
   "outputs": [],
   "source": [
    "plant_model.add(tf.keras.layers.Dense(units=1, activation='sigmoid'))"
   ]
  },
  {
   "cell_type": "code",
   "execution_count": 12,
   "metadata": {
    "id": "NALksrNQpUlJ"
   },
   "outputs": [],
   "source": [
    "plant_model.compile(optimizer = 'adam', loss = 'binary_crossentropy', metrics = ['accuracy'])"
   ]
  },
  {
   "cell_type": "code",
   "execution_count": 13,
   "metadata": {},
   "outputs": [
    {
     "name": "stdout",
     "output_type": "stream",
     "text": [
      "Model: \"sequential\"\n",
      "_________________________________________________________________\n",
      "Layer (type)                 Output Shape              Param #   \n",
      "=================================================================\n",
      "conv2d (Conv2D)              (None, 64, 64, 32)        896       \n",
      "_________________________________________________________________\n",
      "batch_normalization (BatchNo (None, 64, 64, 32)        128       \n",
      "_________________________________________________________________\n",
      "max_pooling2d (MaxPooling2D) (None, 21, 21, 32)        0         \n",
      "_________________________________________________________________\n",
      "dropout (Dropout)            (None, 21, 21, 32)        0         \n",
      "_________________________________________________________________\n",
      "conv2d_1 (Conv2D)            (None, 21, 21, 32)        9248      \n",
      "_________________________________________________________________\n",
      "batch_normalization_1 (Batch (None, 21, 21, 32)        128       \n",
      "_________________________________________________________________\n",
      "max_pooling2d_1 (MaxPooling2 (None, 10, 10, 32)        0         \n",
      "_________________________________________________________________\n",
      "dropout_1 (Dropout)          (None, 10, 10, 32)        0         \n",
      "_________________________________________________________________\n",
      "flatten (Flatten)            (None, 3200)              0         \n",
      "_________________________________________________________________\n",
      "dense (Dense)                (None, 1024)              3277824   \n",
      "_________________________________________________________________\n",
      "dense_1 (Dense)              (None, 1)                 1025      \n",
      "=================================================================\n",
      "Total params: 3,289,249\n",
      "Trainable params: 3,289,121\n",
      "Non-trainable params: 128\n",
      "_________________________________________________________________\n"
     ]
    }
   ],
   "source": [
    "plant_model.summary()"
   ]
  },
  {
   "cell_type": "code",
   "execution_count": 17,
   "metadata": {
    "colab": {
     "base_uri": "https://localhost:8080/",
     "height": 337
    },
    "id": "XUj1W4PJptta",
    "outputId": "f1edeaad-5d25-4211-d0a5-473f55e77eab"
   },
   "outputs": [
    {
     "name": "stdout",
     "output_type": "stream",
     "text": [
      "Epoch 1/13\n",
      "203/203 [==============================] - 125s 612ms/step - loss: 1.1882 - accuracy: 0.7837 - val_loss: 12.5164 - val_accuracy: 0.3567\n",
      "Epoch 2/13\n",
      "203/203 [==============================] - 54s 264ms/step - loss: 0.2494 - accuracy: 0.8989 - val_loss: 5.9007 - val_accuracy: 0.5091\n",
      "Epoch 3/13\n",
      "203/203 [==============================] - 54s 267ms/step - loss: 0.2129 - accuracy: 0.9090 - val_loss: 0.9217 - val_accuracy: 0.7619\n",
      "Epoch 4/13\n",
      "203/203 [==============================] - 55s 269ms/step - loss: 0.1924 - accuracy: 0.9282 - val_loss: 0.4886 - val_accuracy: 0.8389\n",
      "Epoch 5/13\n",
      "203/203 [==============================] - 54s 267ms/step - loss: 0.1724 - accuracy: 0.9324 - val_loss: 0.6806 - val_accuracy: 0.8236\n",
      "Epoch 6/13\n",
      "203/203 [==============================] - 54s 268ms/step - loss: 0.1543 - accuracy: 0.9346 - val_loss: 1.3210 - val_accuracy: 0.6377\n",
      "Epoch 7/13\n",
      "203/203 [==============================] - 54s 267ms/step - loss: 0.1306 - accuracy: 0.9485 - val_loss: 0.5527 - val_accuracy: 0.8121\n",
      "Epoch 8/13\n",
      "203/203 [==============================] - 54s 266ms/step - loss: 0.1312 - accuracy: 0.9544 - val_loss: 1.0593 - val_accuracy: 0.6946\n",
      "Epoch 9/13\n",
      "203/203 [==============================] - 55s 268ms/step - loss: 0.1076 - accuracy: 0.9599 - val_loss: 0.4096 - val_accuracy: 0.8550\n",
      "Epoch 10/13\n",
      "203/203 [==============================] - 54s 267ms/step - loss: 0.1124 - accuracy: 0.9587 - val_loss: 0.3703 - val_accuracy: 0.8978\n",
      "Epoch 11/13\n",
      "203/203 [==============================] - 54s 267ms/step - loss: 0.0986 - accuracy: 0.9615 - val_loss: 2.7913 - val_accuracy: 0.5690\n",
      "Epoch 12/13\n",
      "203/203 [==============================] - 54s 266ms/step - loss: 0.0888 - accuracy: 0.9667 - val_loss: 0.6848 - val_accuracy: 0.8257\n",
      "Epoch 13/13\n",
      "203/203 [==============================] - 54s 264ms/step - loss: 0.0930 - accuracy: 0.9686 - val_loss: 0.2035 - val_accuracy: 0.9198\n"
     ]
    },
    {
     "data": {
      "text/plain": [
       "<tensorflow.python.keras.callbacks.History at 0x1876c7cf2b0>"
      ]
     },
     "execution_count": 17,
     "metadata": {},
     "output_type": "execute_result"
    }
   ],
   "source": [
    "plant_model.fit(x = train, validation_data = test, epochs = 13)"
   ]
  },
  {
   "cell_type": "markdown",
   "metadata": {
    "id": "U3PZasO0006Z"
   },
   "source": [
    "## Saving the model"
   ]
  },
  {
   "cell_type": "code",
   "execution_count": 21,
   "metadata": {},
   "outputs": [],
   "source": [
    "plant_model.save('Saved_model.h5')"
   ]
  }
 ],
 "metadata": {
  "accelerator": "GPU",
  "colab": {
   "collapsed_sections": [],
   "name": "convolutional_neural_network.ipynb",
   "provenance": []
  },
  "kernelspec": {
   "display_name": "Python 3",
   "language": "python",
   "name": "python3"
  },
  "language_info": {
   "codemirror_mode": {
    "name": "ipython",
    "version": 3
   },
   "file_extension": ".py",
   "mimetype": "text/x-python",
   "name": "python",
   "nbconvert_exporter": "python",
   "pygments_lexer": "ipython3",
   "version": "3.8.3"
  }
 },
 "nbformat": 4,
 "nbformat_minor": 1
}
